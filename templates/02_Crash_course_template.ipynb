{
 "cells": [
  {
   "cell_type": "markdown",
   "id": "e691d848",
   "metadata": {},
   "source": [
    "# Crash Course for Python 3\n",
    "- Börge Göbel"
   ]
  },
  {
   "cell_type": "markdown",
   "id": "c90d914a",
   "metadata": {},
   "source": [
    "Import numpy"
   ]
  },
  {
   "cell_type": "code",
   "execution_count": 25,
   "id": "d94bfe5c",
   "metadata": {},
   "outputs": [],
   "source": [
    "import numpy as np"
   ]
  },
  {
   "cell_type": "markdown",
   "id": "ff755547",
   "metadata": {},
   "source": [
    "## Basic mathematic operations"
   ]
  },
  {
   "cell_type": "code",
   "execution_count": 16,
   "id": "cb28ade3",
   "metadata": {},
   "outputs": [
    {
     "data": {
      "text/plain": [
       "5"
      ]
     },
     "execution_count": 16,
     "metadata": {},
     "output_type": "execute_result"
    }
   ],
   "source": [
    "2+3 #Addition"
   ]
  },
  {
   "cell_type": "code",
   "execution_count": 17,
   "id": "706001de",
   "metadata": {},
   "outputs": [
    {
     "data": {
      "text/plain": [
       "2"
      ]
     },
     "execution_count": 17,
     "metadata": {},
     "output_type": "execute_result"
    }
   ],
   "source": [
    "9-7 #Subtraction"
   ]
  },
  {
   "cell_type": "code",
   "execution_count": 18,
   "id": "ee8e8473",
   "metadata": {},
   "outputs": [
    {
     "data": {
      "text/plain": [
       "32"
      ]
     },
     "execution_count": 18,
     "metadata": {},
     "output_type": "execute_result"
    }
   ],
   "source": [
    "4*8 #Multiplication"
   ]
  },
  {
   "cell_type": "code",
   "execution_count": 19,
   "id": "4d00b776",
   "metadata": {
    "scrolled": true
   },
   "outputs": [
    {
     "data": {
      "text/plain": [
       "5.5"
      ]
     },
     "execution_count": 19,
     "metadata": {},
     "output_type": "execute_result"
    }
   ],
   "source": [
    "11/2 #Division"
   ]
  },
  {
   "cell_type": "code",
   "execution_count": 20,
   "id": "670f94df",
   "metadata": {},
   "outputs": [
    {
     "data": {
      "text/plain": [
       "5"
      ]
     },
     "execution_count": 20,
     "metadata": {},
     "output_type": "execute_result"
    }
   ],
   "source": [
    "11//2 #Integral division"
   ]
  },
  {
   "cell_type": "code",
   "execution_count": 21,
   "id": "71da8f4e",
   "metadata": {},
   "outputs": [
    {
     "data": {
      "text/plain": [
       "1"
      ]
     },
     "execution_count": 21,
     "metadata": {},
     "output_type": "execute_result"
    }
   ],
   "source": [
    "11%2 #Modulus"
   ]
  },
  {
   "cell_type": "code",
   "execution_count": 22,
   "id": "b75d7b8f",
   "metadata": {},
   "outputs": [
    {
     "data": {
      "text/plain": [
       "25"
      ]
     },
     "execution_count": 22,
     "metadata": {},
     "output_type": "execute_result"
    }
   ],
   "source": [
    "5**2 #Exponent"
   ]
  },
  {
   "cell_type": "code",
   "execution_count": 23,
   "id": "ae937539",
   "metadata": {},
   "outputs": [
    {
     "data": {
      "text/plain": [
       "5.0"
      ]
     },
     "execution_count": 23,
     "metadata": {},
     "output_type": "execute_result"
    }
   ],
   "source": [
    "25**0.5 #sqrt command does not exist. It has to be imported."
   ]
  },
  {
   "cell_type": "code",
   "execution_count": 26,
   "id": "a120579b",
   "metadata": {},
   "outputs": [
    {
     "data": {
      "text/plain": [
       "5.0"
      ]
     },
     "execution_count": 26,
     "metadata": {},
     "output_type": "execute_result"
    }
   ],
   "source": [
    "np.sqrt(25)"
   ]
  },
  {
   "cell_type": "markdown",
   "id": "e6e265fa",
   "metadata": {},
   "source": [
    "Constants"
   ]
  },
  {
   "cell_type": "code",
   "execution_count": 11,
   "id": "3465d3f4",
   "metadata": {},
   "outputs": [
    {
     "data": {
      "text/plain": [
       "3.141592653589793"
      ]
     },
     "execution_count": 11,
     "metadata": {},
     "output_type": "execute_result"
    }
   ],
   "source": [
    "np.pi"
   ]
  },
  {
   "cell_type": "code",
   "execution_count": 27,
   "id": "1019aab3",
   "metadata": {},
   "outputs": [
    {
     "data": {
      "text/plain": [
       "2.718281828459045"
      ]
     },
     "execution_count": 27,
     "metadata": {},
     "output_type": "execute_result"
    }
   ],
   "source": [
    "np.e"
   ]
  },
  {
   "cell_type": "markdown",
   "id": "26ba4432",
   "metadata": {},
   "source": [
    "Define variables"
   ]
  },
  {
   "cell_type": "code",
   "execution_count": 28,
   "id": "11d6e783",
   "metadata": {},
   "outputs": [],
   "source": [
    "a = 3"
   ]
  },
  {
   "cell_type": "code",
   "execution_count": 29,
   "id": "20be76cb",
   "metadata": {},
   "outputs": [
    {
     "data": {
      "text/plain": [
       "7"
      ]
     },
     "execution_count": 29,
     "metadata": {},
     "output_type": "execute_result"
    }
   ],
   "source": [
    "4*a-5"
   ]
  },
  {
   "cell_type": "markdown",
   "id": "4d04a6a5",
   "metadata": {},
   "source": [
    "## Working with different data types"
   ]
  },
  {
   "cell_type": "markdown",
   "id": "683f8b6e",
   "metadata": {},
   "source": [
    "### Numbers (integer, float and complex)"
   ]
  },
  {
   "cell_type": "code",
   "execution_count": 30,
   "id": "7559d4d6",
   "metadata": {},
   "outputs": [
    {
     "data": {
      "text/plain": [
       "6"
      ]
     },
     "execution_count": 30,
     "metadata": {},
     "output_type": "execute_result"
    }
   ],
   "source": [
    "6"
   ]
  },
  {
   "cell_type": "code",
   "execution_count": 31,
   "id": "55d0d1a5",
   "metadata": {},
   "outputs": [
    {
     "data": {
      "text/plain": [
       "6.0"
      ]
     },
     "execution_count": 31,
     "metadata": {},
     "output_type": "execute_result"
    }
   ],
   "source": [
    "6.0"
   ]
  },
  {
   "cell_type": "code",
   "execution_count": 32,
   "id": "52bd4433",
   "metadata": {},
   "outputs": [
    {
     "data": {
      "text/plain": [
       "int"
      ]
     },
     "execution_count": 32,
     "metadata": {},
     "output_type": "execute_result"
    }
   ],
   "source": [
    "type(6)"
   ]
  },
  {
   "cell_type": "code",
   "execution_count": 33,
   "id": "553c21fe",
   "metadata": {},
   "outputs": [
    {
     "data": {
      "text/plain": [
       "float"
      ]
     },
     "execution_count": 33,
     "metadata": {},
     "output_type": "execute_result"
    }
   ],
   "source": [
    "type(6.0)"
   ]
  },
  {
   "cell_type": "markdown",
   "id": "c1582566",
   "metadata": {},
   "source": [
    "There is no need to define the data type. Python does it automatically."
   ]
  },
  {
   "cell_type": "code",
   "execution_count": 34,
   "id": "9acc3a58",
   "metadata": {},
   "outputs": [
    {
     "data": {
      "text/plain": [
       "12.0"
      ]
     },
     "execution_count": 34,
     "metadata": {},
     "output_type": "execute_result"
    }
   ],
   "source": [
    "6+6.0"
   ]
  },
  {
   "cell_type": "markdown",
   "id": "a7aa92f1",
   "metadata": {},
   "source": [
    "but of course it is possible to transform data types"
   ]
  },
  {
   "cell_type": "code",
   "execution_count": 35,
   "id": "4f2ca0c1",
   "metadata": {},
   "outputs": [
    {
     "data": {
      "text/plain": [
       "6.0"
      ]
     },
     "execution_count": 35,
     "metadata": {},
     "output_type": "execute_result"
    }
   ],
   "source": [
    "float(6)"
   ]
  },
  {
   "cell_type": "code",
   "execution_count": 36,
   "id": "2c3ea505",
   "metadata": {},
   "outputs": [
    {
     "data": {
      "text/plain": [
       "6"
      ]
     },
     "execution_count": 36,
     "metadata": {},
     "output_type": "execute_result"
    }
   ],
   "source": [
    "int(6.0)"
   ]
  },
  {
   "cell_type": "code",
   "execution_count": 37,
   "id": "8017d1bb",
   "metadata": {},
   "outputs": [
    {
     "data": {
      "text/plain": [
       "6"
      ]
     },
     "execution_count": 37,
     "metadata": {},
     "output_type": "execute_result"
    }
   ],
   "source": [
    "int(6.9)"
   ]
  },
  {
   "cell_type": "code",
   "execution_count": 38,
   "id": "5e604856",
   "metadata": {},
   "outputs": [
    {
     "data": {
      "text/plain": [
       "7"
      ]
     },
     "execution_count": 38,
     "metadata": {},
     "output_type": "execute_result"
    }
   ],
   "source": [
    "round(6.9)"
   ]
  },
  {
   "cell_type": "markdown",
   "id": "ef199bdb",
   "metadata": {},
   "source": [
    "Complex numbers"
   ]
  },
  {
   "cell_type": "code",
   "execution_count": 39,
   "id": "da788ef1",
   "metadata": {},
   "outputs": [
    {
     "data": {
      "text/plain": [
       "1j"
      ]
     },
     "execution_count": 39,
     "metadata": {},
     "output_type": "execute_result"
    }
   ],
   "source": [
    "1j"
   ]
  },
  {
   "cell_type": "code",
   "execution_count": 40,
   "id": "78fbf462",
   "metadata": {},
   "outputs": [
    {
     "data": {
      "text/plain": [
       "(-1+0j)"
      ]
     },
     "execution_count": 40,
     "metadata": {},
     "output_type": "execute_result"
    }
   ],
   "source": [
    "1j**2"
   ]
  },
  {
   "cell_type": "code",
   "execution_count": 41,
   "id": "354d282a",
   "metadata": {},
   "outputs": [
    {
     "data": {
      "text/plain": [
       "complex"
      ]
     },
     "execution_count": 41,
     "metadata": {},
     "output_type": "execute_result"
    }
   ],
   "source": [
    "type(3+1j)"
   ]
  },
  {
   "cell_type": "code",
   "execution_count": 42,
   "id": "3636475b",
   "metadata": {},
   "outputs": [
    {
     "data": {
      "text/plain": [
       "(2+29j)"
      ]
     },
     "execution_count": 42,
     "metadata": {},
     "output_type": "execute_result"
    }
   ],
   "source": [
    "(7+4j)*(2+3j)"
   ]
  },
  {
   "cell_type": "markdown",
   "id": "e5c22c89",
   "metadata": {},
   "source": [
    "### Strings"
   ]
  },
  {
   "cell_type": "code",
   "execution_count": 43,
   "id": "84144ad5",
   "metadata": {},
   "outputs": [
    {
     "data": {
      "text/plain": [
       "'Hello'"
      ]
     },
     "execution_count": 43,
     "metadata": {},
     "output_type": "execute_result"
    }
   ],
   "source": [
    "'Hello'"
   ]
  },
  {
   "cell_type": "code",
   "execution_count": 44,
   "id": "d52f87ed",
   "metadata": {},
   "outputs": [
    {
     "data": {
      "text/plain": [
       "'Hello'"
      ]
     },
     "execution_count": 44,
     "metadata": {},
     "output_type": "execute_result"
    }
   ],
   "source": [
    "\"Hello\""
   ]
  },
  {
   "cell_type": "code",
   "execution_count": 45,
   "id": "124cba91",
   "metadata": {},
   "outputs": [
    {
     "data": {
      "text/plain": [
       "\"Let's get ready to rumble!\""
      ]
     },
     "execution_count": 45,
     "metadata": {},
     "output_type": "execute_result"
    }
   ],
   "source": [
    "\"Let's get ready to rumble!\""
   ]
  },
  {
   "cell_type": "code",
   "execution_count": 46,
   "id": "e58deecb",
   "metadata": {},
   "outputs": [],
   "source": [
    "string = \"This is a string\""
   ]
  },
  {
   "cell_type": "code",
   "execution_count": 47,
   "id": "d9120518",
   "metadata": {},
   "outputs": [
    {
     "data": {
      "text/plain": [
       "16"
      ]
     },
     "execution_count": 47,
     "metadata": {},
     "output_type": "execute_result"
    }
   ],
   "source": [
    "len(string)"
   ]
  },
  {
   "cell_type": "code",
   "execution_count": 48,
   "id": "1b72b4ce",
   "metadata": {},
   "outputs": [
    {
     "data": {
      "text/plain": [
       "'The answer is: 8.0'"
      ]
     },
     "execution_count": 48,
     "metadata": {},
     "output_type": "execute_result"
    }
   ],
   "source": [
    "\"The answer is: \"+\"8.0\""
   ]
  },
  {
   "cell_type": "code",
   "execution_count": 49,
   "id": "ee251515",
   "metadata": {},
   "outputs": [],
   "source": [
    "a = 5+8"
   ]
  },
  {
   "cell_type": "code",
   "execution_count": 50,
   "id": "f8f77703",
   "metadata": {},
   "outputs": [
    {
     "data": {
      "text/plain": [
       "'The answer is: 13'"
      ]
     },
     "execution_count": 50,
     "metadata": {},
     "output_type": "execute_result"
    }
   ],
   "source": [
    "\"The answer is: \"+str(a)"
   ]
  },
  {
   "cell_type": "markdown",
   "id": "63de019a",
   "metadata": {},
   "source": [
    "## Lists, Arrays & More"
   ]
  },
  {
   "cell_type": "markdown",
   "id": "a42c377b",
   "metadata": {},
   "source": [
    "### Lists"
   ]
  },
  {
   "cell_type": "code",
   "execution_count": 3,
   "id": "f131e6ac",
   "metadata": {},
   "outputs": [],
   "source": [
    "listOfFruits = [\"apple\", \"banana\", \"cherry\"]\n",
    "listOfVegetables = [\"asparagus\", \"beetroot\", \"carrot\"]"
   ]
  },
  {
   "cell_type": "markdown",
   "id": "2b518ba6",
   "metadata": {},
   "source": [
    "Select elements of a list"
   ]
  },
  {
   "cell_type": "code",
   "execution_count": 4,
   "id": "039627e6",
   "metadata": {},
   "outputs": [
    {
     "data": {
      "text/plain": [
       "'banana'"
      ]
     },
     "execution_count": 4,
     "metadata": {},
     "output_type": "execute_result"
    }
   ],
   "source": [
    "listOfFruits[1]"
   ]
  },
  {
   "cell_type": "markdown",
   "id": "39712715",
   "metadata": {},
   "source": [
    "Manipulate lists"
   ]
  },
  {
   "cell_type": "code",
   "execution_count": 15,
   "id": "e7767fe3",
   "metadata": {},
   "outputs": [
    {
     "data": {
      "text/plain": [
       "['asparagus', 'beetroot', 'carrot', 'pumpkin']"
      ]
     },
     "execution_count": 15,
     "metadata": {},
     "output_type": "execute_result"
    }
   ],
   "source": [
    "listOfVegetables.append(\"pumpkin\")\n",
    "listOfVegetables"
   ]
  },
  {
   "cell_type": "markdown",
   "id": "3d03440e",
   "metadata": {},
   "source": [
    "Multi-dimensional lists"
   ]
  },
  {
   "cell_type": "code",
   "execution_count": null,
   "id": "f81ccb08",
   "metadata": {},
   "outputs": [],
   "source": []
  },
  {
   "cell_type": "markdown",
   "id": "f9f43b0e",
   "metadata": {},
   "source": [
    "Problems"
   ]
  },
  {
   "cell_type": "code",
   "execution_count": null,
   "id": "454b347e",
   "metadata": {},
   "outputs": [],
   "source": []
  },
  {
   "cell_type": "markdown",
   "id": "f01a4950",
   "metadata": {},
   "source": [
    "### Arrays (import numpy)"
   ]
  },
  {
   "cell_type": "code",
   "execution_count": null,
   "id": "23cc7452",
   "metadata": {},
   "outputs": [],
   "source": []
  },
  {
   "cell_type": "markdown",
   "id": "ff2f03fa",
   "metadata": {},
   "source": [
    "Select elements"
   ]
  },
  {
   "cell_type": "code",
   "execution_count": null,
   "id": "9bfac838",
   "metadata": {},
   "outputs": [],
   "source": []
  },
  {
   "cell_type": "markdown",
   "id": "d2730874",
   "metadata": {},
   "source": [
    "Manipulate"
   ]
  },
  {
   "cell_type": "code",
   "execution_count": null,
   "id": "0dc40268",
   "metadata": {},
   "outputs": [],
   "source": []
  },
  {
   "cell_type": "markdown",
   "id": "0761b8b1",
   "metadata": {},
   "source": [
    "Manipulate multi-dimensional arrays"
   ]
  },
  {
   "cell_type": "code",
   "execution_count": null,
   "id": "ea7b5ce9",
   "metadata": {},
   "outputs": [],
   "source": []
  },
  {
   "cell_type": "markdown",
   "id": "1d6e46aa",
   "metadata": {},
   "source": [
    "Maths"
   ]
  },
  {
   "cell_type": "code",
   "execution_count": null,
   "id": "f9c20502",
   "metadata": {},
   "outputs": [],
   "source": []
  },
  {
   "cell_type": "markdown",
   "id": "74215be2",
   "metadata": {},
   "source": [
    "### Vectors and Matrices"
   ]
  },
  {
   "cell_type": "markdown",
   "id": "d06dbec0",
   "metadata": {},
   "source": [
    "### Vectors"
   ]
  },
  {
   "cell_type": "code",
   "execution_count": null,
   "id": "24b8881a",
   "metadata": {},
   "outputs": [],
   "source": []
  },
  {
   "cell_type": "markdown",
   "id": "18a66c5e",
   "metadata": {},
   "source": [
    "Dot and cross product"
   ]
  },
  {
   "cell_type": "code",
   "execution_count": null,
   "id": "fce06233",
   "metadata": {},
   "outputs": [],
   "source": []
  },
  {
   "cell_type": "markdown",
   "id": "50850406",
   "metadata": {},
   "source": [
    "Norm"
   ]
  },
  {
   "cell_type": "code",
   "execution_count": null,
   "id": "884449c9",
   "metadata": {},
   "outputs": [],
   "source": []
  },
  {
   "cell_type": "markdown",
   "id": "1cfcf2a6",
   "metadata": {},
   "source": [
    "### Matrices"
   ]
  },
  {
   "cell_type": "code",
   "execution_count": null,
   "id": "1333904e",
   "metadata": {},
   "outputs": [],
   "source": []
  },
  {
   "cell_type": "markdown",
   "id": "e637cfb5",
   "metadata": {},
   "source": [
    "Multiplication"
   ]
  },
  {
   "cell_type": "code",
   "execution_count": null,
   "id": "180ce33c",
   "metadata": {},
   "outputs": [],
   "source": []
  },
  {
   "cell_type": "markdown",
   "id": "34cc24c1",
   "metadata": {},
   "source": [
    "Determinant and inverse"
   ]
  },
  {
   "cell_type": "code",
   "execution_count": null,
   "id": "a2074c1e",
   "metadata": {},
   "outputs": [],
   "source": []
  },
  {
   "cell_type": "markdown",
   "id": "3c83d463",
   "metadata": {},
   "source": [
    "### Dictionaries"
   ]
  },
  {
   "cell_type": "code",
   "execution_count": null,
   "id": "34d5c319",
   "metadata": {},
   "outputs": [],
   "source": []
  },
  {
   "cell_type": "markdown",
   "id": "1fce0d30",
   "metadata": {},
   "source": [
    "Select entries"
   ]
  },
  {
   "cell_type": "code",
   "execution_count": null,
   "id": "612b510d",
   "metadata": {},
   "outputs": [],
   "source": []
  },
  {
   "cell_type": "markdown",
   "id": "ad5b9d7b",
   "metadata": {},
   "source": [
    "Manipulate entries"
   ]
  },
  {
   "cell_type": "code",
   "execution_count": null,
   "id": "f81f0166",
   "metadata": {},
   "outputs": [],
   "source": []
  },
  {
   "cell_type": "markdown",
   "id": "898f34a9",
   "metadata": {},
   "source": [
    "## Loops & If statements"
   ]
  },
  {
   "cell_type": "markdown",
   "id": "0223b044",
   "metadata": {},
   "source": [
    "### While loop"
   ]
  },
  {
   "cell_type": "code",
   "execution_count": null,
   "id": "6b128817",
   "metadata": {},
   "outputs": [],
   "source": []
  },
  {
   "cell_type": "markdown",
   "id": "22a7713e",
   "metadata": {},
   "source": [
    "### While loop with if statement"
   ]
  },
  {
   "cell_type": "code",
   "execution_count": null,
   "id": "08dac301",
   "metadata": {},
   "outputs": [],
   "source": []
  },
  {
   "cell_type": "markdown",
   "id": "25679e12",
   "metadata": {},
   "source": [
    "### For loop"
   ]
  },
  {
   "cell_type": "code",
   "execution_count": null,
   "id": "82096ab6",
   "metadata": {},
   "outputs": [],
   "source": []
  },
  {
   "cell_type": "markdown",
   "id": "9a42f405",
   "metadata": {},
   "source": [
    "## Work with files"
   ]
  },
  {
   "cell_type": "markdown",
   "id": "59fc0b05",
   "metadata": {},
   "source": [
    "### Save"
   ]
  },
  {
   "cell_type": "markdown",
   "id": "ba81e7c0",
   "metadata": {},
   "source": [
    "Save the whole list at once"
   ]
  },
  {
   "cell_type": "code",
   "execution_count": null,
   "id": "c89543d2",
   "metadata": {},
   "outputs": [],
   "source": []
  },
  {
   "cell_type": "markdown",
   "id": "2098a20f",
   "metadata": {},
   "source": [
    "Save each line one after another"
   ]
  },
  {
   "cell_type": "code",
   "execution_count": null,
   "id": "9933bcf0",
   "metadata": {},
   "outputs": [],
   "source": []
  },
  {
   "cell_type": "markdown",
   "id": "fcfd7618",
   "metadata": {},
   "source": [
    "### Load"
   ]
  },
  {
   "cell_type": "code",
   "execution_count": null,
   "id": "dc55e379",
   "metadata": {},
   "outputs": [],
   "source": []
  },
  {
   "cell_type": "markdown",
   "id": "ea05e2b0",
   "metadata": {},
   "source": [
    "## Functions"
   ]
  },
  {
   "cell_type": "markdown",
   "id": "546f29c8",
   "metadata": {},
   "source": [
    "def _name_(_arguments_):\n",
    "\n",
    "    commands"
   ]
  },
  {
   "cell_type": "markdown",
   "id": "1f771f79",
   "metadata": {},
   "source": [
    "First function without arguments"
   ]
  },
  {
   "cell_type": "code",
   "execution_count": null,
   "id": "2f64c11f",
   "metadata": {},
   "outputs": [],
   "source": []
  },
  {
   "cell_type": "markdown",
   "id": "12767034",
   "metadata": {},
   "source": [
    "Create your own dot product function"
   ]
  },
  {
   "cell_type": "code",
   "execution_count": null,
   "id": "b0511f87",
   "metadata": {},
   "outputs": [],
   "source": []
  },
  {
   "cell_type": "markdown",
   "id": "b6dadb70",
   "metadata": {},
   "source": [
    "Use argument keywords"
   ]
  },
  {
   "cell_type": "code",
   "execution_count": null,
   "id": "f7177b74",
   "metadata": {},
   "outputs": [],
   "source": []
  },
  {
   "cell_type": "markdown",
   "id": "5f84b488",
   "metadata": {},
   "source": [
    "## Plots (import matplotlib)"
   ]
  },
  {
   "cell_type": "code",
   "execution_count": 149,
   "id": "6ccb52c4",
   "metadata": {},
   "outputs": [],
   "source": [
    "import matplotlib.pyplot as plt"
   ]
  },
  {
   "cell_type": "markdown",
   "id": "b12613a9",
   "metadata": {},
   "source": [
    "### Scatter"
   ]
  },
  {
   "cell_type": "code",
   "execution_count": null,
   "id": "705a886c",
   "metadata": {},
   "outputs": [],
   "source": []
  },
  {
   "cell_type": "markdown",
   "id": "3c87de0e",
   "metadata": {},
   "source": [
    "### Plot"
   ]
  },
  {
   "cell_type": "code",
   "execution_count": null,
   "id": "d5f4b0dd",
   "metadata": {},
   "outputs": [],
   "source": []
  },
  {
   "cell_type": "markdown",
   "id": "d1533152",
   "metadata": {},
   "source": [
    "### Density plot"
   ]
  },
  {
   "cell_type": "code",
   "execution_count": null,
   "id": "1355713c",
   "metadata": {},
   "outputs": [],
   "source": []
  },
  {
   "cell_type": "markdown",
   "id": "75d4f04e",
   "metadata": {},
   "source": [
    "### 3d plots"
   ]
  },
  {
   "cell_type": "code",
   "execution_count": null,
   "id": "aec9347e",
   "metadata": {},
   "outputs": [],
   "source": []
  },
  {
   "cell_type": "markdown",
   "id": "627ab7c9",
   "metadata": {},
   "source": [
    "### 3d plots - lines & scatter plot"
   ]
  },
  {
   "cell_type": "code",
   "execution_count": null,
   "id": "3d8b91b9",
   "metadata": {},
   "outputs": [],
   "source": []
  }
 ],
 "metadata": {
  "kernelspec": {
   "display_name": "Python 3.9.10 64-bit",
   "language": "python",
   "name": "python3"
  },
  "language_info": {
   "codemirror_mode": {
    "name": "ipython",
    "version": 3
   },
   "file_extension": ".py",
   "mimetype": "text/x-python",
   "name": "python",
   "nbconvert_exporter": "python",
   "pygments_lexer": "ipython3",
   "version": "3.9.10"
  },
  "vscode": {
   "interpreter": {
    "hash": "ac2eaa0ea0ebeafcc7822e65e46aa9d4f966f30b695406963e145ea4a91cd4fc"
   }
  }
 },
 "nbformat": 4,
 "nbformat_minor": 5
}
